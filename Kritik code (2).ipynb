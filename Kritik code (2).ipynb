{
 "cells": [
  {
   "cell_type": "code",
   "execution_count": 24,
   "id": "afe77192-4418-4f9c-86d4-c99a08663bd6",
   "metadata": {},
   "outputs": [
    {
     "name": "stdout",
     "output_type": "stream",
     "text": [
      " The root of the function in [ 0.1, 1] = 0.2698741376\n",
      " The root of the function in [ 0, 2] = 0.0000000001\n",
      " The root of the function in [ 3, 4] = 3.1415926537\n",
      " The root is not found for function in [ 5, 7]\n"
     ]
    }
   ],
   "source": [
    "import numpy as np\n",
    "\n",
    "def roots(func, a, b, tol = 1e-10):\n",
    "\n",
    "    if np.sign(f(a)) == np.sign(f(b)): \n",
    "        return None\n",
    "\n",
    "    for i in range(1000):\n",
    "\n",
    "        midpoint = (a+b)/2\n",
    "\n",
    "    if np.abs(f(midpoint)) < tol:\n",
    "        return midpoint\n",
    "    elif np.sign(f(a)) == np.sign(f(midpoint)):\n",
    "        return roots (f, midpoint, b, tol)\n",
    "    else:\n",
    "        return roots (f, a, midpoint, tol)\n",
    "\n",
    "test_cases = [\n",
    "    (lambda x: np.exp(x) + np.log(x), 0.1, 1),\n",
    "    (lambda x: np.arctan(x) - x**2, 0, 2),\n",
    "    (lambda x: np.sin(x) / np.log(x), 3, 4),\n",
    "    (lambda x: np.log(np.cos(x)), 5, 7)]\n",
    "\n",
    "for i, (f, a, b) in enumerate(test_cases):\n",
    "    \n",
    "    r1 = roots(f, a , b)\n",
    "\n",
    "    if r1 is not None:\n",
    "        print( f\" The root of the function in [ {a}, {b}] = {r1:.10f}\")\n",
    "    else:\n",
    "            print( f\" The root is not found for function in [ {a}, {b}]\")"
   ]
  },
  {
   "cell_type": "code",
   "execution_count": null,
   "id": "99cdd397-de59-41a2-8cde-7e7469c92783",
   "metadata": {},
   "outputs": [],
   "source": []
  },
  {
   "cell_type": "code",
   "execution_count": null,
   "id": "82ddcefe-226c-4cb9-88aa-9ab3d689614a",
   "metadata": {},
   "outputs": [],
   "source": []
  },
  {
   "cell_type": "code",
   "execution_count": null,
   "id": "fae9dcf0-528c-4bdc-b37d-3c526eb5c62b",
   "metadata": {},
   "outputs": [],
   "source": []
  }
 ],
 "metadata": {
  "kernelspec": {
   "display_name": "Python 3 (ipykernel)",
   "language": "python",
   "name": "python3"
  },
  "language_info": {
   "codemirror_mode": {
    "name": "ipython",
    "version": 3
   },
   "file_extension": ".py",
   "mimetype": "text/x-python",
   "name": "python",
   "nbconvert_exporter": "python",
   "pygments_lexer": "ipython3",
   "version": "3.11.9"
  }
 },
 "nbformat": 4,
 "nbformat_minor": 5
}
