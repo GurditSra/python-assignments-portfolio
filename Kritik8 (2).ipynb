{
 "cells": [
  {
   "cell_type": "code",
   "execution_count": 1,
   "id": "6c5948fe-030f-488d-8c64-76aab8153a73",
   "metadata": {},
   "outputs": [
    {
     "name": "stdout",
     "output_type": "stream",
     "text": [
      "Mean of the scores: 82.38\n",
      "Sample standard deviation: 10.19\n",
      "Critical t-value (t*): 2.2522\n",
      "Test statistic (t0): 2.2901\n",
      "t-test outcome: False\n",
      "\n",
      "The new scores are significantly different from the population average.\n",
      "Since t0 is positive, the new teaching methods have likely improved performance!\n",
      "Thus, we reject the null hypothesis (H0: μ = μ0).\n"
     ]
    }
   ],
   "source": [
    "import numpy as np\n",
    "from scipy.special import gamma\n",
    "\n",
    "def t_distribution_pdf(x, nu):\n",
    "    # Calculate the probability density function (PDF) of a t-distribution at a given x-value.\n",
    "    coefficient = gamma((nu + 1) / 2) / (np.sqrt(nu * np.pi) * gamma(nu / 2))\n",
    "    return coefficient * (1 + x**2 / nu) ** (-0.5 * (nu + 1))\n",
    "\n",
    "def find_t_star(prob, nu, x_start=0, x_end=20, num_points=10000):\n",
    "    # Determine the t-value (t*) that corresponds to a given cumulative probability.\n",
    "    x = np.linspace(x_start, x_end, num_points)  # Generate an array of x values\n",
    "    y = t_distribution_pdf(x, nu)  # Compute PDF values\n",
    "    cumulative_prob = np.cumsum(y) * (x[1] - x[0])  # Compute cumulative probability\n",
    "    \n",
    "    required_half_prob = prob / 2  # Half of the given probability\n",
    "    index = np.where(cumulative_prob >= required_half_prob)[0][0]  # Find corresponding index\n",
    "    return x[index]\n",
    "\n",
    "def compute_mean(data):\n",
    "    # Compute the mean (average) of a dataset.\n",
    "    return sum(data) / len(data)\n",
    "\n",
    "def compute_std_dev(data):\n",
    "    # Compute the sample standard deviation of a dataset.\n",
    "    mean_value = compute_mean(data)\n",
    "    variance_sum = sum((x - mean_value) ** 2 for x in data)  # Sum of squared differences\n",
    "    return (variance_sum / (len(data) - 1)) ** 0.5  # Apply sample standard deviation formula\n",
    "\n",
    "def compute_t0(data, mu0):\n",
    "    # Calculate the test statistic t0 for hypothesis testing.\n",
    "    mean_value = compute_mean(data)\n",
    "    std_dev = compute_std_dev(data)\n",
    "    sample_size = len(data)\n",
    "    return (mean_value - mu0) / (std_dev / np.sqrt(sample_size))  # Compute t0\n",
    "\n",
    "def t_test(data, mu0, prob, nu):\n",
    "    # Perform a t-test to determine whether to accept or reject H0.\n",
    "    return abs(compute_t0(data, mu0)) < find_t_star(prob, nu)\n",
    "\n",
    "# Sample dataset\n",
    "exam_scores = [92.64, 79.00, 84.79, 97.41, 93.68, 65.23, 84.50, 73.49, 73.97, 79.11]  # Given test scores\n",
    "national_avg = 75  # Population mean\n",
    "\n",
    "t_star = find_t_star(0.95, len(exam_scores) - 1)  # Find critical t-value\n",
    "t0_value = compute_t0(exam_scores, national_avg)  # Compute test statistic\n",
    "t_test_result = t_test(exam_scores, national_avg, 0.95, len(exam_scores) - 1)  # Perform t-test\n",
    "\n",
    "# Output results\n",
    "print(f\"Mean of the scores: {compute_mean(exam_scores):.2f}\")  # Print mean\n",
    "print(f\"Sample standard deviation: {compute_std_dev(exam_scores):.2f}\")  # Print standard deviation\n",
    "print(f\"Critical t-value (t*): {t_star:.4f}\")  # Print critical t-value\n",
    "print(f\"Test statistic (t0): {t0_value:.4f}\")  # Print test statistic\n",
    "print(f\"t-test outcome: {t_test_result}\")  # Print test result\n",
    "print()\n",
    "\n",
    "if not t_test_result:\n",
    "    # If the null hypothesis is rejected, explain the result\n",
    "    print(\"The new scores are significantly different from the population average.\")\n",
    "    print(\"Since t0 is positive, the new teaching methods have likely improved performance!\")\n",
    "    print(\"Thus, we reject the null hypothesis (H0: μ = μ0).\")\n",
    "else:\n",
    "    # If the null hypothesis is not rejected, explain the result\n",
    "    print(\"There is no significant difference between the sample mean and the national average.\")\n"
   ]
  },
  {
   "cell_type": "code",
   "execution_count": null,
   "id": "fb29afbc-fd1e-4908-9a1c-87c639dd6ce4",
   "metadata": {},
   "outputs": [],
   "source": []
  }
 ],
 "metadata": {
  "kernelspec": {
   "display_name": "Python 3 (ipykernel)",
   "language": "python",
   "name": "python3"
  },
  "language_info": {
   "codemirror_mode": {
    "name": "ipython",
    "version": 3
   },
   "file_extension": ".py",
   "mimetype": "text/x-python",
   "name": "python",
   "nbconvert_exporter": "python",
   "pygments_lexer": "ipython3",
   "version": "3.12.8"
  }
 },
 "nbformat": 4,
 "nbformat_minor": 5
}
