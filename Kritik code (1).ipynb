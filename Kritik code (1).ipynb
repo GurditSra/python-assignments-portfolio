{
 "cells": [
  {
   "cell_type": "code",
   "id": "initial_id",
   "metadata": {
    "collapsed": true,
    "ExecuteTime": {
     "end_time": "2024-09-30T05:06:44.568426Z",
     "start_time": "2024-09-30T05:06:44.558476Z"
    }
   },
   "source": [
    "def arctan_approximation(x):\n",
    "    # Step 1: Check if x is within the required interval [0, 1]\n",
    "    if x < 0 or x > 1:\n",
    "        return \"Error!\"\n",
    "    # Step 2: Initialize variables\n",
    "    approximation = 0\n",
    "    error_bound = float('inf')\n",
    "    n = 0\n",
    "    # Step 3: Loop until the error bound is less than or equal to 0.0001\n",
    "    while error_bound > 0.0001:\n",
    "        # Calculate the current term (-1)^n * x^(2n+1) / (2n+1)\n",
    "        term = ((-1) ** n) * (x ** (2 * n + 1)) / (2 * n + 1)\n",
    "        approximation += term\n",
    "\n",
    "        # Update the error bound based on the next term\n",
    "        next_term = (x ** (2 * n + 3)) / (2 * n + 3)\n",
    "        error_bound = abs(next_term)\n",
    "\n",
    "        # Increment n for the next term\n",
    "        n += 1\n",
    "\n",
    "    # Step 4: Return the approximation, n, and the final error bound\n",
    "    return approximation, n, error_bound\n",
    "\n",
    "# Testing the function with the given inputs\n",
    "test_values = [-1, 0, 0.25, 0.5, 0.75, 1]\n",
    "for x in test_values:\n",
    "    result = arctan_approximation(x)\n",
    "    print(f\"arctan_approximation({x}) = {result}\")"
   ],
   "outputs": [
    {
     "name": "stdout",
     "output_type": "stream",
     "text": [
      "arctan_approximation(-1) = Error!\n",
      "arctan_approximation(0) = (0.0, 1, 0.0)\n",
      "arctan_approximation(0.25) = (0.24498697916666665, 3, 8.719308035714285e-06)\n",
      "arctan_approximation(0.5) = (0.46368427579365074, 5, 4.438920454545455e-05)\n",
      "arctan_approximation(0.75) = (0.6435394700943785, 11, 5.816761029294689e-05)\n",
      "arctan_approximation(1) = (0.7853481633979478, 5000, 9.999000099990002e-05)\n"
     ]
    }
   ],
   "execution_count": 2
  },
  {
   "metadata": {},
   "cell_type": "code",
   "outputs": [],
   "execution_count": null,
   "source": "",
   "id": "bc45b440cf0c30ae"
  }
 ],
 "metadata": {
  "kernelspec": {
   "display_name": "Python 3",
   "language": "python",
   "name": "python3"
  },
  "language_info": {
   "codemirror_mode": {
    "name": "ipython",
    "version": 2
   },
   "file_extension": ".py",
   "mimetype": "text/x-python",
   "name": "python",
   "nbconvert_exporter": "python",
   "pygments_lexer": "ipython2",
   "version": "2.7.6"
  }
 },
 "nbformat": 4,
 "nbformat_minor": 5
}
