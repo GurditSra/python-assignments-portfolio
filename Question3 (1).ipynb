{
 "cells": [
  {
   "cell_type": "code",
   "id": "e688fa99-3d5f-4e8f-b37a-95bc300b754b",
   "metadata": {
    "ExecuteTime": {
     "end_time": "2024-11-13T05:53:42.994592Z",
     "start_time": "2024-11-13T05:53:42.691773Z"
    }
   },
   "source": [
    "import time  # Ensure time is imported for time tracking\n",
    "import numpy as np\n",
    "\n",
    "# Start timer\n",
    "start_time = time.time()\n",
    "\n",
    "# Take error value as input\n",
    "E = float(input(\"Enter error value: \"))  # Use float for precision in error value\n",
    "\n",
    "# Define functions\n",
    "def quadratic(x):\n",
    "    return x**2\n",
    "\n",
    "def sin(x):\n",
    "    return np.sin(x)\n",
    "\n",
    "def exponential(x):\n",
    "    return np.exp(x)\n",
    "\n",
    "# Define the linear approximation function\n",
    "def linear_approximation(f, c, E):\n",
    "    dx = 1e-8  # Small increment for derivative approximation\n",
    "    d = (f(c + dx) - f(c - dx)) / (2 * dx)  # Central difference to approximate derivative\n",
    "\n",
    "    # Handle the case where the derivative is zero\n",
    "    if d == 0:\n",
    "        return f\"The derivative is zero at c = {c}, cannot compute offset.\"\n",
    "\n",
    "    # Calculate offset and scale factor\n",
    "    offset = E / abs(d)\n",
    "    offset_scale_factor = 15\n",
    "\n",
    "    # Initialize x1 and x2\n",
    "    x1 = c - offset * offset_scale_factor\n",
    "    x2 = c + offset * offset_scale_factor\n",
    "\n",
    "    # Calculate initial errors\n",
    "    error1 = abs(f(x1) - f(c) - (d * (x1 - c)))\n",
    "    error2 = abs(f(x2) - f(c) - (d * (x2 - c)))\n",
    "\n",
    "    # Iteratively adjust x1 until error1 is within the acceptable range\n",
    "    while error1 > E:\n",
    "        error1 = abs(f(x1) - f(c) - (d * (x1 - c)))\n",
    "        saf1 = error1 / (d * 100000)  # Adjust increment based on error1\n",
    "        x1 += saf1\n",
    "\n",
    "        # Check for runtime limit\n",
    "        if time.time() - start_time > 30:\n",
    "            return f\"Runtime > 30 seconds. Adjust offset scale factor accordingly (current {offset_scale_factor}).\"\n",
    "\n",
    "    return float(x1), float(x2)\n",
    "\n",
    "# Test the linear approximation function with different functions and values of c\n",
    "print(linear_approximation(quadratic, 1, 0.1))\n",
    "print(linear_approximation(sin, np.pi / 4, 0.05))\n",
    "print(linear_approximation(exponential, 0, 0.01))\n",
    "\n",
    "# Print runtime\n",
    "print(\"--- %s seconds ---\" % (time.time() - start_time))"
   ],
   "outputs": [
    {
     "ename": "ModuleNotFoundError",
     "evalue": "No module named 'numpy'",
     "output_type": "error",
     "traceback": [
      "\u001B[1;31m---------------------------------------------------------------------------\u001B[0m",
      "\u001B[1;31mModuleNotFoundError\u001B[0m                       Traceback (most recent call last)",
      "Cell \u001B[1;32mIn[1], line 2\u001B[0m\n\u001B[0;32m      1\u001B[0m \u001B[38;5;28;01mimport\u001B[39;00m \u001B[38;5;21;01mtime\u001B[39;00m  \u001B[38;5;66;03m# Ensure time is imported for time tracking\u001B[39;00m\n\u001B[1;32m----> 2\u001B[0m \u001B[38;5;28;01mimport\u001B[39;00m \u001B[38;5;21;01mnumpy\u001B[39;00m \u001B[38;5;28;01mas\u001B[39;00m \u001B[38;5;21;01mnp\u001B[39;00m\n\u001B[0;32m      4\u001B[0m \u001B[38;5;66;03m# Start timer\u001B[39;00m\n\u001B[0;32m      5\u001B[0m start_time \u001B[38;5;241m=\u001B[39m time\u001B[38;5;241m.\u001B[39mtime()\n",
      "\u001B[1;31mModuleNotFoundError\u001B[0m: No module named 'numpy'"
     ]
    }
   ],
   "execution_count": 1
  },
  {
   "cell_type": "code",
   "execution_count": null,
   "id": "78fdbf40-6372-468d-8b56-e746e61a5f01",
   "metadata": {},
   "outputs": [],
   "source": []
  }
 ],
 "metadata": {
  "kernelspec": {
   "display_name": "Python 3 (ipykernel)",
   "language": "python",
   "name": "python3"
  },
  "language_info": {
   "codemirror_mode": {
    "name": "ipython",
    "version": 3
   },
   "file_extension": ".py",
   "mimetype": "text/x-python",
   "name": "python",
   "nbconvert_exporter": "python",
   "pygments_lexer": "ipython3",
   "version": "3.11.9"
  }
 },
 "nbformat": 4,
 "nbformat_minor": 5
}
